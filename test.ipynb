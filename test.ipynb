{
 "cells": [
  {
   "cell_type": "code",
   "execution_count": 1,
   "id": "initial_id",
   "metadata": {
    "collapsed": true,
    "ExecuteTime": {
     "end_time": "2023-09-22T07:24:51.501286379Z",
     "start_time": "2023-09-22T07:24:51.354251511Z"
    }
   },
   "outputs": [],
   "source": [
    "import onnxruntime as ort\n",
    "import numpy as np\n",
    "model_path = \"./onnx_model/two_label_classify.onnx\"\n",
    "\n",
    "session = ort.InferenceSession(model_path)"
   ]
  },
  {
   "cell_type": "code",
   "execution_count": 2,
   "outputs": [],
   "source": [
    "input_name = session.get_inputs()[0].name"
   ],
   "metadata": {
    "collapsed": false,
    "ExecuteTime": {
     "end_time": "2023-09-22T07:24:52.730654880Z",
     "start_time": "2023-09-22T07:24:52.726431830Z"
    }
   },
   "id": "6d50ae2644ae0fe4"
  },
  {
   "cell_type": "code",
   "execution_count": 3,
   "outputs": [],
   "source": [
    "output = session.get_outputs()[0]"
   ],
   "metadata": {
    "collapsed": false,
    "ExecuteTime": {
     "end_time": "2023-09-22T07:24:53.423420940Z",
     "start_time": "2023-09-22T07:24:53.418345109Z"
    }
   },
   "id": "9f576bd19bc7c20c"
  },
  {
   "cell_type": "code",
   "execution_count": 15,
   "outputs": [],
   "source": [
    "input_ndarray = np.random.randn(1,3,224,224).astype(dtype=np.float32) "
   ],
   "metadata": {
    "collapsed": false,
    "ExecuteTime": {
     "end_time": "2023-09-22T05:56:15.502424332Z",
     "start_time": "2023-09-22T05:56:15.489419186Z"
    }
   },
   "id": "6c15ed5f73768b"
  },
  {
   "cell_type": "code",
   "execution_count": 16,
   "outputs": [
    {
     "data": {
      "text/plain": "(1, 3, 224, 224)"
     },
     "execution_count": 16,
     "metadata": {},
     "output_type": "execute_result"
    }
   ],
   "source": [
    "input_ndarray.shape"
   ],
   "metadata": {
    "collapsed": false,
    "ExecuteTime": {
     "end_time": "2023-09-22T05:56:15.883663866Z",
     "start_time": "2023-09-22T05:56:15.880262213Z"
    }
   },
   "id": "8bfe71db337dfd8a"
  },
  {
   "cell_type": "code",
   "execution_count": 23,
   "outputs": [],
   "source": [
    "o  = session.run(None,{input_name:input_ndarray})"
   ],
   "metadata": {
    "collapsed": false,
    "ExecuteTime": {
     "end_time": "2023-09-22T06:09:55.473676371Z",
     "start_time": "2023-09-22T06:09:55.463999868Z"
    }
   },
   "id": "692c92187ea91dd2"
  },
  {
   "cell_type": "code",
   "execution_count": 4,
   "outputs": [
    {
     "data": {
      "text/plain": "'x'"
     },
     "execution_count": 4,
     "metadata": {},
     "output_type": "execute_result"
    }
   ],
   "source": [],
   "metadata": {
    "collapsed": false,
    "ExecuteTime": {
     "end_time": "2023-09-22T07:25:00.068497709Z",
     "start_time": "2023-09-22T07:25:00.053649386Z"
    }
   },
   "id": "3b823d4dd1a05289"
  },
  {
   "cell_type": "code",
   "execution_count": null,
   "outputs": [],
   "source": [],
   "metadata": {
    "collapsed": false
   },
   "id": "f4a162c41b2d5e7c"
  }
 ],
 "metadata": {
  "kernelspec": {
   "display_name": "Python 3",
   "language": "python",
   "name": "python3"
  },
  "language_info": {
   "codemirror_mode": {
    "name": "ipython",
    "version": 2
   },
   "file_extension": ".py",
   "mimetype": "text/x-python",
   "name": "python",
   "nbconvert_exporter": "python",
   "pygments_lexer": "ipython2",
   "version": "2.7.6"
  }
 },
 "nbformat": 4,
 "nbformat_minor": 5
}
